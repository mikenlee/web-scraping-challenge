{
 "cells": [
  {
   "cell_type": "code",
   "execution_count": 1,
   "metadata": {},
   "outputs": [
    {
     "name": "stderr",
     "output_type": "stream",
     "text": [
      "/Users/mikenlee/opt/anaconda3/lib/python3.8/site-packages/requests/__init__.py:89: RequestsDependencyWarning: urllib3 (1.25.9) or chardet (2.0.3) doesn't match a supported version!\n",
      "  warnings.warn(\"urllib3 ({}) or chardet ({}) doesn't match a supported \"\n"
     ]
    }
   ],
   "source": [
    "from splinter import Browser\n",
    "from bs4 import BeautifulSoup\n",
    "from webdriver_manager.chrome import ChromeDriverManager\n",
    "import pandas as pd\n",
    "import pymongo\n",
    "import requests"
   ]
  },
  {
   "cell_type": "code",
   "execution_count": 21,
   "metadata": {},
   "outputs": [
    {
     "name": "stderr",
     "output_type": "stream",
     "text": [
      "[WDM] - Current google-chrome version is 87.0.4280\n",
      "[WDM] - Get LATEST driver version for 87.0.4280\n",
      "[WDM] - Driver [/Users/mikenlee/.wdm/drivers/chromedriver/mac64/87.0.4280.88/chromedriver] found in cache\n"
     ]
    },
    {
     "name": "stdout",
     "output_type": "stream",
     "text": [
      " \n"
     ]
    }
   ],
   "source": [
    "#Configure chrome driver for clicking through pages o/w we could just use requests and get \n",
    "#Setup splinter\n",
    "executable_path = {'executable_path': ChromeDriverManager().install()}\n",
    "browser = Browser('chrome', **executable_path, headless=False) #** unpacks values and opens browser"
   ]
  },
  {
   "cell_type": "code",
   "execution_count": null,
   "metadata": {},
   "outputs": [],
   "source": [
    "# Example:\n",
    "news_title = \"NASA's Next Mars Mission to Investigate Interior of Red Planet\"\n",
    "\n",
    "news_p = \"Preparation of NASA's next spacecraft to Mars, InSight, has ramped up this summer, on course for launch next May from Vandenberg Air Force Base in central California -- the first interplanetary launch in history from America's West Coast.\"\n"
   ]
  },
  {
   "cell_type": "code",
   "execution_count": 22,
   "metadata": {},
   "outputs": [
    {
     "data": {
      "text/plain": [
       "<li class=\"slide\"><div class=\"image_and_description_container\"><a href=\"/news/8822/a-martian-roundtrip-nasas-perseverance-rover-sample-tubes/\" target=\"_self\"><div class=\"rollover_description\"><div class=\"rollover_description_inner\">Marvels of engineering, the rover's sample tubes must be tough enough to safely bring Red Planet samples on the long journey back to Earth in immaculate condition. </div><div class=\"overlay_arrow\"><img alt=\"More\" src=\"/assets/overlay-arrow.png\"/></div></div><div class=\"list_image\"><img alt=\"A tray holding 39 sample tubes – each protected in a gold-colored sheath – is installed in NASA's Perseverance rover in this picture taken at the agency's Kennedy Space Center on May 21, 2020.\" src=\"/system/news_items/list_view_images/8822_1-PIA24304-CatScanMars-320x240.gif\"/></div><div class=\"bottom_gradient\"><div><h3>A Martian Roundtrip: NASA's Perseverance Rover Sample Tubes</h3></div></div></a><div class=\"list_text\"><div class=\"list_date\">December 22, 2020</div><div class=\"content_title\"><a href=\"/news/8822/a-martian-roundtrip-nasas-perseverance-rover-sample-tubes/\" target=\"_self\">A Martian Roundtrip: NASA's Perseverance Rover Sample Tubes</a></div><div class=\"article_teaser_body\">Marvels of engineering, the rover's sample tubes must be tough enough to safely bring Red Planet samples on the long journey back to Earth in immaculate condition. </div></div></div></li>"
      ]
     },
     "execution_count": 22,
     "metadata": {},
     "output_type": "execute_result"
    }
   ],
   "source": [
    "# results are returned as an iterable list\n",
    "results = soup.find('li', class_=\"slide\")\n",
    "results"
   ]
  },
  {
   "cell_type": "code",
   "execution_count": 68,
   "metadata": {},
   "outputs": [
    {
     "data": {
      "text/plain": [
       "('December 22, 2020',\n",
       " \"Marvels of engineering, the rover's sample tubes must be tough enough to safely bring Red Planet samples on the long journey back to Earth in immaculate condition. \",\n",
       " \"A Martian Roundtrip: NASA's Perseverance Rover Sample Tubes\")"
      ]
     },
     "execution_count": 68,
     "metadata": {},
     "output_type": "execute_result"
    }
   ],
   "source": [
    "def mars_news():\n",
    "    url = \"https://mars.nasa.gov/news/\"\n",
    "    browser.visit(url)\n",
    "    html = browser.html #html source code to parse\n",
    "    soup = BeautifulSoup(html, \"html.parser\")\n",
    "    article_container = soup.find('ul', class_='item_list') #scope down the soup object\n",
    "\n",
    "    news_date = article_container.find(\"div\", class_=\"list_date\").text\n",
    "    news_p = article_container.find(\"div\", class_=\"article_teaser_body\").text\n",
    "    news_title = article_container.find(\"div\", class_=\"content_title\").find('a').text\n",
    "    \n",
    "    return news_date, news_p, news_title\n",
    "\n"
   ]
  },
  {
   "cell_type": "code",
   "execution_count": 44,
   "metadata": {},
   "outputs": [],
   "source": [
    "url = 'https://www.jpl.nasa.gov/spaceimages/?search=&category=Mars'\n",
    "browser.visit(url)\n",
    "html = browser.html #html source code to parse\n",
    "image_soup = BeautifulSoup(html, \"html.parser\")"
   ]
  },
  {
   "cell_type": "code",
   "execution_count": 82,
   "metadata": {},
   "outputs": [],
   "source": [
    "def mars_img():\n",
    "    \n",
    "    base_url = 'https://www.jpl.nasa.gov'\n",
    "    url = 'https://www.jpl.nasa.gov/spaceimages/?search=&category=Mars'\n",
    "    browser.visit(url)\n",
    "    html = browser.html #html source code to parse\n",
    "    image_soup = BeautifulSoup(html, \"html.parser\")\n",
    "\n",
    "    #METHOD 1: parsing through the style attribute in the article tag\n",
    "    try:\n",
    "        img_elem = image_soup.find('article', class_=\"carousel_item\")['style']\n",
    "        img_rel_url = img_elem.replace(\"background-image: url('\", \"\")\n",
    "        img_rel_url = img_rel_url.replace(\"');\", \"\")\n",
    "        print(img_rel_url) #relative URL to append to base URL\n",
    "\n",
    "    except Exception as e:\n",
    "        print(e)\n",
    "\n",
    "    #METHOD 2\n",
    "#     full_img_elem = browser.find_by_id('full_image')[0]\n",
    "#     full_img_elem.click()\n",
    "\n",
    "#     html = browser.html #html source code to parse for NEW PAGE\n",
    "#     image_soup = BeautifulSoup(html, \"html.parser\")\n",
    "\n",
    "#     img_rel_url = image_soup.find('img', class_ = \"fancybox-image\")['src']\n",
    "#     print(img_rel_url)\n",
    "\n",
    "    featured_img_url = f'{base_url}{img_rel_url2}'\n",
    "    return featured_img_url"
   ]
  },
  {
   "cell_type": "code",
   "execution_count": 70,
   "metadata": {},
   "outputs": [],
   "source": [
    "def mars_facts():\n",
    "    url = \"https://space-facts.com/mars/\"\n",
    "    browser.visit(url)\n",
    "\n",
    "    mars_facts_df = pd.read_html(url)\n",
    "    mars_facts_df = mars_facts_df[0] #pick first table\n",
    "    mars_facts_df.columns = ['Description', 'Mars']\n",
    "    mars_facts_html = mars_facts_df.to_html(border = 0, classes = 'table table-striped')\n",
    "\n",
    "    return mars_facts_html"
   ]
  },
  {
   "cell_type": "code",
   "execution_count": 75,
   "metadata": {},
   "outputs": [],
   "source": [
    "def scrape_all():\n",
    "    #populate variables from functions\n",
    "    news_date, news_p, news_title = mars_news()\n",
    "    featured_img_url = mars_img()\n",
    "    mars_facts_html = mars_facts()\n",
    "\n",
    "    #assemble document to insert into database\n",
    "    nasa_document = {\n",
    "        'news_title': news_title,\n",
    "        'news_paragraph': news_p,\n",
    "        'featured_img_url': featured_img_url,\n",
    "        'mars_facts_html': mars_facts_html\n",
    "    }\n",
    "\n",
    "    return nasa_document"
   ]
  },
  {
   "cell_type": "code",
   "execution_count": 65,
   "metadata": {},
   "outputs": [
    {
     "name": "stdout",
     "output_type": "stream",
     "text": [
      "Cerberus Hemisphere Enhanced\n",
      "/cache/images/f5e372a36edfa389625da6d0cc25d905_cerberus_enhanced.tif_full.jpg\n",
      "Schiaparelli Hemisphere Enhanced\n",
      "/cache/images/3778f7b43bbbc89d6e3cfabb3613ba93_schiaparelli_enhanced.tif_full.jpg\n",
      "Syrtis Major Hemisphere Enhanced\n",
      "/cache/images/555e6403a6ddd7ba16ddb0e471cadcf7_syrtis_major_enhanced.tif_full.jpg\n",
      "Valles Marineris Hemisphere Enhanced\n",
      "/cache/images/b3c7c6c9138f57b4756be9b9c43e3a48_valles_marineris_enhanced.tif_full.jpg\n"
     ]
    },
    {
     "data": {
      "text/plain": [
       "{'title': 'Valles Marineris Hemisphere Enhanced',\n",
       " 'img_url': 'https://astrogeology.usgs.gov/cache/images/b3c7c6c9138f57b4756be9b9c43e3a48_valles_marineris_enhanced.tif_full.jpg'}"
      ]
     },
     "execution_count": 65,
     "metadata": {},
     "output_type": "execute_result"
    }
   ],
   "source": [
    "base_url = \"https://astrogeology.usgs.gov\"\n",
    "url = \"https://astrogeology.usgs.gov/search/results?q=hemisphere+enhanced&k1=target&v1=Mars\"\n",
    "browser.visit(url)\n",
    "\n",
    "list_elem = [1,3,5,7]\n",
    "hemisphere_image_urls = []\n",
    "\n",
    "for link in list_elem:\n",
    "    hemisphere_elem = browser.links.find_by_partial_href('map/Mars/Viking')[link]\n",
    "    hemisphere_elem.click()\n",
    "\n",
    "    html = browser.html\n",
    "    image_soup = BeautifulSoup(html, \"html.parser\")\n",
    "\n",
    "    img_rel_url = image_soup.find('img', class_ = \"wide-image\")['src']\n",
    "    img_title = image_soup.find('h2', class_ = \"title\").text\n",
    "    print(img_title)\n",
    "    print(img_rel_url)\n",
    "    hemisphere_image_urls.append({'title': img_title, 'img_url': f'{base_url}{img_rel_url}'})    \n",
    "\n",
    "    url = \"https://astrogeology.usgs.gov/search/results?q=hemisphere+enhanced&k1=target&v1=Mars\"\n",
    "    browser.visit(url)\n"
   ]
  },
  {
   "cell_type": "code",
   "execution_count": 67,
   "metadata": {},
   "outputs": [
    {
     "data": {
      "text/plain": [
       "[{'title': 'Cerberus Hemisphere Enhanced',\n",
       "  'img_url': 'https://astrogeology.usgs.gov/cache/images/f5e372a36edfa389625da6d0cc25d905_cerberus_enhanced.tif_full.jpg'},\n",
       " {'title': 'Schiaparelli Hemisphere Enhanced',\n",
       "  'img_url': 'https://astrogeology.usgs.gov/cache/images/3778f7b43bbbc89d6e3cfabb3613ba93_schiaparelli_enhanced.tif_full.jpg'},\n",
       " {'title': 'Syrtis Major Hemisphere Enhanced',\n",
       "  'img_url': 'https://astrogeology.usgs.gov/cache/images/555e6403a6ddd7ba16ddb0e471cadcf7_syrtis_major_enhanced.tif_full.jpg'},\n",
       " {'title': 'Valles Marineris Hemisphere Enhanced',\n",
       "  'img_url': 'https://astrogeology.usgs.gov/cache/images/b3c7c6c9138f57b4756be9b9c43e3a48_valles_marineris_enhanced.tif_full.jpg'}]"
      ]
     },
     "execution_count": 67,
     "metadata": {},
     "output_type": "execute_result"
    }
   ],
   "source": [
    "hemisphere_image_urls"
   ]
  },
  {
   "cell_type": "code",
   "execution_count": null,
   "metadata": {},
   "outputs": [],
   "source": [
    "#parse through using html tags and attributes\n",
    "html = browser.html #html source code to parse for NEW PAGE\n",
    "image_soup = BeautifulSoup(html, \"html.parser\")\n",
    "#scope down the soup object\n",
    "article_container = image_soup.find('ul', class_='item_list') \n",
    "\n",
    "\n",
    "img_rel_url = image_soup.find('img', class_ = \"fancybox-image\")['src']\n",
    "print(img_rel_url)\n",
    "hemisphere_url = f'{base_url}{img_rel_url}'"
   ]
  },
  {
   "cell_type": "code",
   "execution_count": 83,
   "metadata": {},
   "outputs": [
    {
     "name": "stdout",
     "output_type": "stream",
     "text": [
      "/spaceimages/images/wallpaper/PIA17978-1920x1200.jpg\n"
     ]
    },
    {
     "data": {
      "text/plain": [
       "<pymongo.results.UpdateResult at 0x7fae2ffd7cc0>"
      ]
     },
     "execution_count": 83,
     "metadata": {},
     "output_type": "execute_result"
    }
   ],
   "source": [
    "conn = 'mongodb://localhost:27017'\n",
    "client = pymongo.MongoClient(conn)\n",
    "\n",
    "#connect to mars DB; create if doesn't exist\n",
    "db = client.mars_db\n",
    "\n",
    "#connect to mars collection\n",
    "mars = db.mars\n",
    "\n",
    "#gather documents to insert\n",
    "data_document = scrape_all()\n",
    "\n",
    "#insert into mars collection\n",
    "# mars.insert_one(data_document)\n",
    "\n",
    "#upsert into database (prefered to avoid duplicates) \n",
    "mars.update_one({}, {'$set': data_document}, upsert = True)"
   ]
  }
 ],
 "metadata": {
  "kernelspec": {
   "display_name": "Python 3",
   "language": "python",
   "name": "python3"
  },
  "language_info": {
   "codemirror_mode": {
    "name": "ipython",
    "version": 3
   },
   "file_extension": ".py",
   "mimetype": "text/x-python",
   "name": "python",
   "nbconvert_exporter": "python",
   "pygments_lexer": "ipython3",
   "version": "3.8.3"
  }
 },
 "nbformat": 4,
 "nbformat_minor": 4
}
